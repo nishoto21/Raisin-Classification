{
 "cells": [
  {
   "cell_type": "code",
   "execution_count": 4,
   "metadata": {
    "execution": {
     "iopub.execute_input": "2022-05-11T04:34:23.43939Z",
     "iopub.status.busy": "2022-05-11T04:34:23.438318Z",
     "iopub.status.idle": "2022-05-11T04:34:23.446504Z",
     "shell.execute_reply": "2022-05-11T04:34:23.4455Z",
     "shell.execute_reply.started": "2022-05-11T04:34:23.439306Z"
    }
   },
   "outputs": [],
   "source": [
    "import pandas as pd\n",
    "import numpy as np\n",
    "import matplotlib.pyplot as plt\n",
    "from sklearn.preprocessing import LabelEncoder\n",
    "from sklearn.ensemble import IsolationForest\n",
    "from scipy import stats\n",
    "from numpy import set_printoptions\n",
    "from sklearn.feature_selection import SelectKBest\n",
    "from sklearn.feature_selection import chi2\n",
    "from sklearn.preprocessing import StandardScaler\n",
    "from sklearn.linear_model import LogisticRegression\n",
    "from sklearn.feature_selection import RFE\n",
    "from sklearn.decomposition import PCA\n",
    "from sklearn.model_selection import train_test_split\n",
    "from sklearn.model_selection import KFold\n",
    "from sklearn.model_selection import cross_val_score"
   ]
  },
  {
   "cell_type": "code",
   "execution_count": 5,
   "metadata": {
    "execution": {
     "iopub.execute_input": "2022-05-11T04:34:23.508262Z",
     "iopub.status.busy": "2022-05-11T04:34:23.507812Z",
     "iopub.status.idle": "2022-05-11T04:34:23.528706Z",
     "shell.execute_reply": "2022-05-11T04:34:23.528035Z",
     "shell.execute_reply.started": "2022-05-11T04:34:23.508229Z"
    }
   },
   "outputs": [
    {
     "data": {
      "text/html": [
       "<div>\n",
       "<style scoped>\n",
       "    .dataframe tbody tr th:only-of-type {\n",
       "        vertical-align: middle;\n",
       "    }\n",
       "\n",
       "    .dataframe tbody tr th {\n",
       "        vertical-align: top;\n",
       "    }\n",
       "\n",
       "    .dataframe thead th {\n",
       "        text-align: right;\n",
       "    }\n",
       "</style>\n",
       "<table border=\"1\" class=\"dataframe\">\n",
       "  <thead>\n",
       "    <tr style=\"text-align: right;\">\n",
       "      <th></th>\n",
       "      <th>Area</th>\n",
       "      <th>MajorAxisLength</th>\n",
       "      <th>MinorAxisLength</th>\n",
       "      <th>Eccentricity</th>\n",
       "      <th>ConvexArea</th>\n",
       "      <th>Extent</th>\n",
       "      <th>Perimeter</th>\n",
       "      <th>Class</th>\n",
       "    </tr>\n",
       "  </thead>\n",
       "  <tbody>\n",
       "    <tr>\n",
       "      <th>0</th>\n",
       "      <td>87524</td>\n",
       "      <td>442.246011</td>\n",
       "      <td>253.291155</td>\n",
       "      <td>0.819738</td>\n",
       "      <td>90546</td>\n",
       "      <td>0.758651</td>\n",
       "      <td>1184.040</td>\n",
       "      <td>Kecimen</td>\n",
       "    </tr>\n",
       "    <tr>\n",
       "      <th>1</th>\n",
       "      <td>75166</td>\n",
       "      <td>406.690687</td>\n",
       "      <td>243.032436</td>\n",
       "      <td>0.801805</td>\n",
       "      <td>78789</td>\n",
       "      <td>0.684130</td>\n",
       "      <td>1121.786</td>\n",
       "      <td>Kecimen</td>\n",
       "    </tr>\n",
       "    <tr>\n",
       "      <th>2</th>\n",
       "      <td>90856</td>\n",
       "      <td>442.267048</td>\n",
       "      <td>266.328318</td>\n",
       "      <td>0.798354</td>\n",
       "      <td>93717</td>\n",
       "      <td>0.637613</td>\n",
       "      <td>1208.575</td>\n",
       "      <td>Kecimen</td>\n",
       "    </tr>\n",
       "    <tr>\n",
       "      <th>3</th>\n",
       "      <td>45928</td>\n",
       "      <td>286.540559</td>\n",
       "      <td>208.760042</td>\n",
       "      <td>0.684989</td>\n",
       "      <td>47336</td>\n",
       "      <td>0.699599</td>\n",
       "      <td>844.162</td>\n",
       "      <td>Kecimen</td>\n",
       "    </tr>\n",
       "    <tr>\n",
       "      <th>4</th>\n",
       "      <td>79408</td>\n",
       "      <td>352.190770</td>\n",
       "      <td>290.827533</td>\n",
       "      <td>0.564011</td>\n",
       "      <td>81463</td>\n",
       "      <td>0.792772</td>\n",
       "      <td>1073.251</td>\n",
       "      <td>Kecimen</td>\n",
       "    </tr>\n",
       "  </tbody>\n",
       "</table>\n",
       "</div>"
      ],
      "text/plain": [
       "    Area  MajorAxisLength  MinorAxisLength  Eccentricity  ConvexArea  \\\n",
       "0  87524       442.246011       253.291155      0.819738       90546   \n",
       "1  75166       406.690687       243.032436      0.801805       78789   \n",
       "2  90856       442.267048       266.328318      0.798354       93717   \n",
       "3  45928       286.540559       208.760042      0.684989       47336   \n",
       "4  79408       352.190770       290.827533      0.564011       81463   \n",
       "\n",
       "     Extent  Perimeter    Class  \n",
       "0  0.758651   1184.040  Kecimen  \n",
       "1  0.684130   1121.786  Kecimen  \n",
       "2  0.637613   1208.575  Kecimen  \n",
       "3  0.699599    844.162  Kecimen  \n",
       "4  0.792772   1073.251  Kecimen  "
      ]
     },
     "execution_count": 5,
     "metadata": {},
     "output_type": "execute_result"
    }
   ],
   "source": [
    "raisin = pd.read_csv('D:/study docs/Kaggle/Datasets/Raisin_Dataset.csv')\n",
    "raisin.head()"
   ]
  },
  {
   "cell_type": "code",
   "execution_count": 6,
   "metadata": {
    "execution": {
     "iopub.execute_input": "2022-05-11T04:34:23.571988Z",
     "iopub.status.busy": "2022-05-11T04:34:23.571525Z",
     "iopub.status.idle": "2022-05-11T04:34:23.57904Z",
     "shell.execute_reply": "2022-05-11T04:34:23.578129Z",
     "shell.execute_reply.started": "2022-05-11T04:34:23.571955Z"
    }
   },
   "outputs": [
    {
     "data": {
      "text/plain": [
       "(900, 8)"
      ]
     },
     "execution_count": 6,
     "metadata": {},
     "output_type": "execute_result"
    }
   ],
   "source": [
    "raisin.shape"
   ]
  },
  {
   "cell_type": "code",
   "execution_count": 7,
   "metadata": {
    "execution": {
     "iopub.execute_input": "2022-05-11T04:34:23.6469Z",
     "iopub.status.busy": "2022-05-11T04:34:23.645689Z",
     "iopub.status.idle": "2022-05-11T04:34:23.661163Z",
     "shell.execute_reply": "2022-05-11T04:34:23.660453Z",
     "shell.execute_reply.started": "2022-05-11T04:34:23.646825Z"
    }
   },
   "outputs": [
    {
     "name": "stdout",
     "output_type": "stream",
     "text": [
      "<class 'pandas.core.frame.DataFrame'>\n",
      "RangeIndex: 900 entries, 0 to 899\n",
      "Data columns (total 8 columns):\n",
      " #   Column           Non-Null Count  Dtype  \n",
      "---  ------           --------------  -----  \n",
      " 0   Area             900 non-null    int64  \n",
      " 1   MajorAxisLength  900 non-null    float64\n",
      " 2   MinorAxisLength  900 non-null    float64\n",
      " 3   Eccentricity     900 non-null    float64\n",
      " 4   ConvexArea       900 non-null    int64  \n",
      " 5   Extent           900 non-null    float64\n",
      " 6   Perimeter        900 non-null    float64\n",
      " 7   Class            900 non-null    object \n",
      "dtypes: float64(5), int64(2), object(1)\n",
      "memory usage: 56.4+ KB\n"
     ]
    }
   ],
   "source": [
    "raisin.info()#no null values"
   ]
  },
  {
   "cell_type": "code",
   "execution_count": 8,
   "metadata": {
    "execution": {
     "iopub.execute_input": "2022-05-11T04:34:23.700467Z",
     "iopub.status.busy": "2022-05-11T04:34:23.700116Z",
     "iopub.status.idle": "2022-05-11T04:34:23.707685Z",
     "shell.execute_reply": "2022-05-11T04:34:23.706947Z",
     "shell.execute_reply.started": "2022-05-11T04:34:23.700427Z"
    }
   },
   "outputs": [],
   "source": [
    "raisin['Class'] = raisin['Class'].astype('category')   "
   ]
  },
  {
   "cell_type": "code",
   "execution_count": 9,
   "metadata": {
    "execution": {
     "iopub.execute_input": "2022-05-11T04:34:23.747137Z",
     "iopub.status.busy": "2022-05-11T04:34:23.746342Z",
     "iopub.status.idle": "2022-05-11T04:34:23.755808Z",
     "shell.execute_reply": "2022-05-11T04:34:23.754519Z",
     "shell.execute_reply.started": "2022-05-11T04:34:23.747097Z"
    }
   },
   "outputs": [
    {
     "data": {
      "text/plain": [
       "Area                  int64\n",
       "MajorAxisLength     float64\n",
       "MinorAxisLength     float64\n",
       "Eccentricity        float64\n",
       "ConvexArea            int64\n",
       "Extent              float64\n",
       "Perimeter           float64\n",
       "Class              category\n",
       "dtype: object"
      ]
     },
     "execution_count": 9,
     "metadata": {},
     "output_type": "execute_result"
    }
   ],
   "source": [
    "raisin.dtypes"
   ]
  },
  {
   "cell_type": "code",
   "execution_count": 10,
   "metadata": {
    "execution": {
     "iopub.execute_input": "2022-05-11T04:34:23.796876Z",
     "iopub.status.busy": "2022-05-11T04:34:23.795808Z",
     "iopub.status.idle": "2022-05-11T04:34:23.807413Z",
     "shell.execute_reply": "2022-05-11T04:34:23.806317Z",
     "shell.execute_reply.started": "2022-05-11T04:34:23.796817Z"
    }
   },
   "outputs": [
    {
     "data": {
      "text/plain": [
       "Area               0\n",
       "MajorAxisLength    0\n",
       "MinorAxisLength    0\n",
       "Eccentricity       0\n",
       "ConvexArea         0\n",
       "Extent             0\n",
       "Perimeter          0\n",
       "Class              0\n",
       "dtype: int64"
      ]
     },
     "execution_count": 10,
     "metadata": {},
     "output_type": "execute_result"
    }
   ],
   "source": [
    "raisin.isnull().sum()"
   ]
  },
  {
   "cell_type": "code",
   "execution_count": 11,
   "metadata": {
    "execution": {
     "iopub.execute_input": "2022-05-11T04:34:23.848497Z",
     "iopub.status.busy": "2022-05-11T04:34:23.847938Z",
     "iopub.status.idle": "2022-05-11T04:34:23.864192Z",
     "shell.execute_reply": "2022-05-11T04:34:23.863082Z",
     "shell.execute_reply.started": "2022-05-11T04:34:23.848445Z"
    }
   },
   "outputs": [
    {
     "data": {
      "text/html": [
       "<div>\n",
       "<style scoped>\n",
       "    .dataframe tbody tr th:only-of-type {\n",
       "        vertical-align: middle;\n",
       "    }\n",
       "\n",
       "    .dataframe tbody tr th {\n",
       "        vertical-align: top;\n",
       "    }\n",
       "\n",
       "    .dataframe thead th {\n",
       "        text-align: right;\n",
       "    }\n",
       "</style>\n",
       "<table border=\"1\" class=\"dataframe\">\n",
       "  <thead>\n",
       "    <tr style=\"text-align: right;\">\n",
       "      <th></th>\n",
       "      <th>Area</th>\n",
       "      <th>MajorAxisLength</th>\n",
       "      <th>MinorAxisLength</th>\n",
       "      <th>Eccentricity</th>\n",
       "      <th>ConvexArea</th>\n",
       "      <th>Extent</th>\n",
       "      <th>Perimeter</th>\n",
       "      <th>Class</th>\n",
       "    </tr>\n",
       "  </thead>\n",
       "  <tbody>\n",
       "  </tbody>\n",
       "</table>\n",
       "</div>"
      ],
      "text/plain": [
       "Empty DataFrame\n",
       "Columns: [Area, MajorAxisLength, MinorAxisLength, Eccentricity, ConvexArea, Extent, Perimeter, Class]\n",
       "Index: []"
      ]
     },
     "execution_count": 11,
     "metadata": {},
     "output_type": "execute_result"
    }
   ],
   "source": [
    "raisin[raisin.duplicated()]"
   ]
  },
  {
   "cell_type": "code",
   "execution_count": 12,
   "metadata": {
    "execution": {
     "iopub.execute_input": "2022-05-11T04:34:23.899429Z",
     "iopub.status.busy": "2022-05-11T04:34:23.898756Z",
     "iopub.status.idle": "2022-05-11T04:34:23.910258Z",
     "shell.execute_reply": "2022-05-11T04:34:23.90915Z",
     "shell.execute_reply.started": "2022-05-11T04:34:23.899352Z"
    }
   },
   "outputs": [
    {
     "data": {
      "text/plain": [
       "Besni      450\n",
       "Kecimen    450\n",
       "Name: Class, dtype: int64"
      ]
     },
     "execution_count": 12,
     "metadata": {},
     "output_type": "execute_result"
    }
   ],
   "source": [
    "raisin['Class'].value_counts()"
   ]
  },
  {
   "cell_type": "code",
   "execution_count": 13,
   "metadata": {
    "execution": {
     "iopub.execute_input": "2022-05-11T04:34:23.943984Z",
     "iopub.status.busy": "2022-05-11T04:34:23.943438Z",
     "iopub.status.idle": "2022-05-11T04:34:24.030933Z",
     "shell.execute_reply": "2022-05-11T04:34:24.029974Z",
     "shell.execute_reply.started": "2022-05-11T04:34:23.943933Z"
    }
   },
   "outputs": [
    {
     "data": {
      "image/png": "[encoded data removed]",
      "text/plain": [
       "<Figure size 432x288 with 1 Axes>"
      ]
     },
     "metadata": {},
     "output_type": "display_data"
    }
   ],
   "source": [
    "plt.pie(raisin['Class'].value_counts(),labels = ['Besni','Kecimen'])\n",
    "plt.show()"
   ]
  },
  {
   "cell_type": "code",
   "execution_count": 14,
   "metadata": {
    "execution": {
     "iopub.execute_input": "2022-05-11T04:34:24.033936Z",
     "iopub.status.busy": "2022-05-11T04:34:24.033311Z",
     "iopub.status.idle": "2022-05-11T04:34:24.215432Z",
     "shell.execute_reply": "2022-05-11T04:34:24.214464Z",
     "shell.execute_reply.started": "2022-05-11T04:34:24.033883Z"
    }
   },
   "outputs": [
    {
     "data": {
      "image/png": "[encoded data removed]",
      "text/plain": [
       "<Figure size 432x288 with 1 Axes>"
      ]
     },
     "metadata": {
      "needs_background": "light"
     },
     "output_type": "display_data"
    }
   ],
   "source": [
    "plt.hist(raisin['MajorAxisLength'],bins = 15)\n",
    "plt.show()"
   ]
  },
  {
   "cell_type": "code",
   "execution_count": 15,
   "metadata": {
    "execution": {
     "iopub.execute_input": "2022-05-11T04:34:24.218065Z",
     "iopub.status.busy": "2022-05-11T04:34:24.217773Z",
     "iopub.status.idle": "2022-05-11T04:34:24.418979Z",
     "shell.execute_reply": "2022-05-11T04:34:24.418275Z",
     "shell.execute_reply.started": "2022-05-11T04:34:24.21803Z"
    }
   },
   "outputs": [
    {
     "data": {
      "image/png": "[encoded data removed]",
      "text/plain": [
       "<Figure size 432x288 with 1 Axes>"
      ]
     },
     "metadata": {
      "needs_background": "light"
     },
     "output_type": "display_data"
    }
   ],
   "source": [
    "plt.hist(raisin['MinorAxisLength'],bins = 15)\n",
    "plt.show()"
   ]
  },
  {
   "cell_type": "code",
   "execution_count": 16,
   "metadata": {
    "execution": {
     "iopub.execute_input": "2022-05-11T04:34:24.420784Z",
     "iopub.status.busy": "2022-05-11T04:34:24.420543Z",
     "iopub.status.idle": "2022-05-11T04:34:24.427065Z",
     "shell.execute_reply": "2022-05-11T04:34:24.425997Z",
     "shell.execute_reply.started": "2022-05-11T04:34:24.420755Z"
    }
   },
   "outputs": [],
   "source": [
    "le = LabelEncoder()\n",
    "raisin['Class'] = le.fit_transform(raisin['Class'])"
   ]
  },
  {
   "cell_type": "code",
   "execution_count": 17,
   "metadata": {
    "execution": {
     "iopub.execute_input": "2022-05-11T04:34:24.429548Z",
     "iopub.status.busy": "2022-05-11T04:34:24.429244Z",
     "iopub.status.idle": "2022-05-11T04:34:24.473309Z",
     "shell.execute_reply": "2022-05-11T04:34:24.472547Z",
     "shell.execute_reply.started": "2022-05-11T04:34:24.429508Z"
    }
   },
   "outputs": [
    {
     "data": {
      "text/html": [
       "<div>\n",
       "<style scoped>\n",
       "    .dataframe tbody tr th:only-of-type {\n",
       "        vertical-align: middle;\n",
       "    }\n",
       "\n",
       "    .dataframe tbody tr th {\n",
       "        vertical-align: top;\n",
       "    }\n",
       "\n",
       "    .dataframe thead th {\n",
       "        text-align: right;\n",
       "    }\n",
       "</style>\n",
       "<table border=\"1\" class=\"dataframe\">\n",
       "  <thead>\n",
       "    <tr style=\"text-align: right;\">\n",
       "      <th></th>\n",
       "      <th>Area</th>\n",
       "      <th>MajorAxisLength</th>\n",
       "      <th>MinorAxisLength</th>\n",
       "      <th>Eccentricity</th>\n",
       "      <th>ConvexArea</th>\n",
       "      <th>Extent</th>\n",
       "      <th>Perimeter</th>\n",
       "      <th>Class</th>\n",
       "    </tr>\n",
       "  </thead>\n",
       "  <tbody>\n",
       "    <tr>\n",
       "      <th>count</th>\n",
       "      <td>900.000000</td>\n",
       "      <td>900.000000</td>\n",
       "      <td>900.000000</td>\n",
       "      <td>900.000000</td>\n",
       "      <td>900.000000</td>\n",
       "      <td>900.000000</td>\n",
       "      <td>900.000000</td>\n",
       "      <td>900.000000</td>\n",
       "    </tr>\n",
       "    <tr>\n",
       "      <th>mean</th>\n",
       "      <td>87804.127778</td>\n",
       "      <td>430.929950</td>\n",
       "      <td>254.488133</td>\n",
       "      <td>0.781542</td>\n",
       "      <td>91186.090000</td>\n",
       "      <td>0.699508</td>\n",
       "      <td>1165.906636</td>\n",
       "      <td>0.500000</td>\n",
       "    </tr>\n",
       "    <tr>\n",
       "      <th>std</th>\n",
       "      <td>39002.111390</td>\n",
       "      <td>116.035121</td>\n",
       "      <td>49.988902</td>\n",
       "      <td>0.090318</td>\n",
       "      <td>40769.290132</td>\n",
       "      <td>0.053468</td>\n",
       "      <td>273.764315</td>\n",
       "      <td>0.500278</td>\n",
       "    </tr>\n",
       "    <tr>\n",
       "      <th>min</th>\n",
       "      <td>25387.000000</td>\n",
       "      <td>225.629541</td>\n",
       "      <td>143.710872</td>\n",
       "      <td>0.348730</td>\n",
       "      <td>26139.000000</td>\n",
       "      <td>0.379856</td>\n",
       "      <td>619.074000</td>\n",
       "      <td>0.000000</td>\n",
       "    </tr>\n",
       "    <tr>\n",
       "      <th>25%</th>\n",
       "      <td>59348.000000</td>\n",
       "      <td>345.442898</td>\n",
       "      <td>219.111126</td>\n",
       "      <td>0.741766</td>\n",
       "      <td>61513.250000</td>\n",
       "      <td>0.670869</td>\n",
       "      <td>966.410750</td>\n",
       "      <td>0.000000</td>\n",
       "    </tr>\n",
       "    <tr>\n",
       "      <th>50%</th>\n",
       "      <td>78902.000000</td>\n",
       "      <td>407.803951</td>\n",
       "      <td>247.848409</td>\n",
       "      <td>0.798846</td>\n",
       "      <td>81651.000000</td>\n",
       "      <td>0.707367</td>\n",
       "      <td>1119.509000</td>\n",
       "      <td>0.500000</td>\n",
       "    </tr>\n",
       "    <tr>\n",
       "      <th>75%</th>\n",
       "      <td>105028.250000</td>\n",
       "      <td>494.187014</td>\n",
       "      <td>279.888575</td>\n",
       "      <td>0.842571</td>\n",
       "      <td>108375.750000</td>\n",
       "      <td>0.734991</td>\n",
       "      <td>1308.389750</td>\n",
       "      <td>1.000000</td>\n",
       "    </tr>\n",
       "    <tr>\n",
       "      <th>max</th>\n",
       "      <td>235047.000000</td>\n",
       "      <td>997.291941</td>\n",
       "      <td>492.275279</td>\n",
       "      <td>0.962124</td>\n",
       "      <td>278217.000000</td>\n",
       "      <td>0.835455</td>\n",
       "      <td>2697.753000</td>\n",
       "      <td>1.000000</td>\n",
       "    </tr>\n",
       "  </tbody>\n",
       "</table>\n",
       "</div>"
      ],
      "text/plain": [
       "                Area  MajorAxisLength  MinorAxisLength  Eccentricity  \\\n",
       "count     900.000000       900.000000       900.000000    900.000000   \n",
       "mean    87804.127778       430.929950       254.488133      0.781542   \n",
       "std     39002.111390       116.035121        49.988902      0.090318   \n",
       "min     25387.000000       225.629541       143.710872      0.348730   \n",
       "25%     59348.000000       345.442898       219.111126      0.741766   \n",
       "50%     78902.000000       407.803951       247.848409      0.798846   \n",
       "75%    105028.250000       494.187014       279.888575      0.842571   \n",
       "max    235047.000000       997.291941       492.275279      0.962124   \n",
       "\n",
       "          ConvexArea      Extent    Perimeter       Class  \n",
       "count     900.000000  900.000000   900.000000  900.000000  \n",
       "mean    91186.090000    0.699508  1165.906636    0.500000  \n",
       "std     40769.290132    0.053468   273.764315    0.500278  \n",
       "min     26139.000000    0.379856   619.074000    0.000000  \n",
       "25%     61513.250000    0.670869   966.410750    0.000000  \n",
       "50%     81651.000000    0.707367  1119.509000    0.500000  \n",
       "75%    108375.750000    0.734991  1308.389750    1.000000  \n",
       "max    278217.000000    0.835455  2697.753000    1.000000  "
      ]
     },
     "execution_count": 17,
     "metadata": {},
     "output_type": "execute_result"
    }
   ],
   "source": [
    "raisin.describe()"
   ]
  },
  {
   "cell_type": "code",
   "execution_count": 18,
   "metadata": {
    "execution": {
     "iopub.execute_input": "2022-05-11T04:34:24.474961Z",
     "iopub.status.busy": "2022-05-11T04:34:24.474733Z",
     "iopub.status.idle": "2022-05-11T04:34:24.492261Z",
     "shell.execute_reply": "2022-05-11T04:34:24.491429Z",
     "shell.execute_reply.started": "2022-05-11T04:34:24.474933Z"
    }
   },
   "outputs": [
    {
     "data": {
      "text/html": [
       "<div>\n",
       "<style scoped>\n",
       "    .dataframe tbody tr th:only-of-type {\n",
       "        vertical-align: middle;\n",
       "    }\n",
       "\n",
       "    .dataframe tbody tr th {\n",
       "        vertical-align: top;\n",
       "    }\n",
       "\n",
       "    .dataframe thead th {\n",
       "        text-align: right;\n",
       "    }\n",
       "</style>\n",
       "<table border=\"1\" class=\"dataframe\">\n",
       "  <thead>\n",
       "    <tr style=\"text-align: right;\">\n",
       "      <th></th>\n",
       "      <th>Area</th>\n",
       "      <th>MajorAxisLength</th>\n",
       "      <th>MinorAxisLength</th>\n",
       "      <th>Eccentricity</th>\n",
       "      <th>ConvexArea</th>\n",
       "      <th>Extent</th>\n",
       "      <th>Perimeter</th>\n",
       "      <th>Class</th>\n",
       "    </tr>\n",
       "  </thead>\n",
       "  <tbody>\n",
       "    <tr>\n",
       "      <th>Area</th>\n",
       "      <td>1.000000</td>\n",
       "      <td>0.932774</td>\n",
       "      <td>0.906650</td>\n",
       "      <td>0.336107</td>\n",
       "      <td>0.995920</td>\n",
       "      <td>-0.013499</td>\n",
       "      <td>0.961352</td>\n",
       "      <td>-0.625715</td>\n",
       "    </tr>\n",
       "    <tr>\n",
       "      <th>MajorAxisLength</th>\n",
       "      <td>0.932774</td>\n",
       "      <td>1.000000</td>\n",
       "      <td>0.728030</td>\n",
       "      <td>0.583608</td>\n",
       "      <td>0.945031</td>\n",
       "      <td>-0.203866</td>\n",
       "      <td>0.977978</td>\n",
       "      <td>-0.673194</td>\n",
       "    </tr>\n",
       "    <tr>\n",
       "      <th>MinorAxisLength</th>\n",
       "      <td>0.906650</td>\n",
       "      <td>0.728030</td>\n",
       "      <td>1.000000</td>\n",
       "      <td>-0.027683</td>\n",
       "      <td>0.895651</td>\n",
       "      <td>0.145322</td>\n",
       "      <td>0.827417</td>\n",
       "      <td>-0.503102</td>\n",
       "    </tr>\n",
       "    <tr>\n",
       "      <th>Eccentricity</th>\n",
       "      <td>0.336107</td>\n",
       "      <td>0.583608</td>\n",
       "      <td>-0.027683</td>\n",
       "      <td>1.000000</td>\n",
       "      <td>0.348210</td>\n",
       "      <td>-0.361061</td>\n",
       "      <td>0.447845</td>\n",
       "      <td>-0.438500</td>\n",
       "    </tr>\n",
       "    <tr>\n",
       "      <th>ConvexArea</th>\n",
       "      <td>0.995920</td>\n",
       "      <td>0.945031</td>\n",
       "      <td>0.895651</td>\n",
       "      <td>0.348210</td>\n",
       "      <td>1.000000</td>\n",
       "      <td>-0.054802</td>\n",
       "      <td>0.976612</td>\n",
       "      <td>-0.625567</td>\n",
       "    </tr>\n",
       "    <tr>\n",
       "      <th>Extent</th>\n",
       "      <td>-0.013499</td>\n",
       "      <td>-0.203866</td>\n",
       "      <td>0.145322</td>\n",
       "      <td>-0.361061</td>\n",
       "      <td>-0.054802</td>\n",
       "      <td>1.000000</td>\n",
       "      <td>-0.173449</td>\n",
       "      <td>0.154689</td>\n",
       "    </tr>\n",
       "    <tr>\n",
       "      <th>Perimeter</th>\n",
       "      <td>0.961352</td>\n",
       "      <td>0.977978</td>\n",
       "      <td>0.827417</td>\n",
       "      <td>0.447845</td>\n",
       "      <td>0.976612</td>\n",
       "      <td>-0.173449</td>\n",
       "      <td>1.000000</td>\n",
       "      <td>-0.665981</td>\n",
       "    </tr>\n",
       "    <tr>\n",
       "      <th>Class</th>\n",
       "      <td>-0.625715</td>\n",
       "      <td>-0.673194</td>\n",
       "      <td>-0.503102</td>\n",
       "      <td>-0.438500</td>\n",
       "      <td>-0.625567</td>\n",
       "      <td>0.154689</td>\n",
       "      <td>-0.665981</td>\n",
       "      <td>1.000000</td>\n",
       "    </tr>\n",
       "  </tbody>\n",
       "</table>\n",
       "</div>"
      ],
      "text/plain": [
       "                     Area  MajorAxisLength  MinorAxisLength  Eccentricity  \\\n",
       "Area             1.000000         0.932774         0.906650      0.336107   \n",
       "MajorAxisLength  0.932774         1.000000         0.728030      0.583608   \n",
       "MinorAxisLength  0.906650         0.728030         1.000000     -0.027683   \n",
       "Eccentricity     0.336107         0.583608        -0.027683      1.000000   \n",
       "ConvexArea       0.995920         0.945031         0.895651      0.348210   \n",
       "Extent          -0.013499        -0.203866         0.145322     -0.361061   \n",
       "Perimeter        0.961352         0.977978         0.827417      0.447845   \n",
       "Class           -0.625715        -0.673194        -0.503102     -0.438500   \n",
       "\n",
       "                 ConvexArea    Extent  Perimeter     Class  \n",
       "Area               0.995920 -0.013499   0.961352 -0.625715  \n",
       "MajorAxisLength    0.945031 -0.203866   0.977978 -0.673194  \n",
       "MinorAxisLength    0.895651  0.145322   0.827417 -0.503102  \n",
       "Eccentricity       0.348210 -0.361061   0.447845 -0.438500  \n",
       "ConvexArea         1.000000 -0.054802   0.976612 -0.625567  \n",
       "Extent            -0.054802  1.000000  -0.173449  0.154689  \n",
       "Perimeter          0.976612 -0.173449   1.000000 -0.665981  \n",
       "Class             -0.625567  0.154689  -0.665981  1.000000  "
      ]
     },
     "execution_count": 18,
     "metadata": {},
     "output_type": "execute_result"
    }
   ],
   "source": [
    "raisin.corr()"
   ]
  },
  {
   "cell_type": "code",
   "execution_count": 19,
   "metadata": {
    "execution": {
     "iopub.execute_input": "2022-05-11T04:34:24.493823Z",
     "iopub.status.busy": "2022-05-11T04:34:24.493556Z",
     "iopub.status.idle": "2022-05-11T04:34:24.507645Z",
     "shell.execute_reply": "2022-05-11T04:34:24.506754Z",
     "shell.execute_reply.started": "2022-05-11T04:34:24.493793Z"
    }
   },
   "outputs": [
    {
     "name": "stdout",
     "output_type": "stream",
     "text": [
      "[6097821.68611062   12729.51899533    2234.35121959       1.80425968\n",
      " 6412753.36889067       0.08791728   25631.42351815]\n"
     ]
    }
   ],
   "source": [
    "x = raisin.iloc[:,:-1]\n",
    "y = raisin.iloc[:,-1]\n",
    "\n",
    "test = SelectKBest(score_func=chi2, k=4)\n",
    "fit = test.fit(x, y)\n",
    "\n",
    "set_printoptions(suppress = True)\n",
    "print(fit.scores_)\n",
    "features = fit.transform(x)"
   ]
  },
  {
   "cell_type": "code",
   "execution_count": 20,
   "metadata": {
    "execution": {
     "iopub.execute_input": "2022-05-11T04:34:24.5095Z",
     "iopub.status.busy": "2022-05-11T04:34:24.509227Z",
     "iopub.status.idle": "2022-05-11T04:34:24.669182Z",
     "shell.execute_reply": "2022-05-11T04:34:24.668253Z",
     "shell.execute_reply.started": "2022-05-11T04:34:24.509468Z"
    }
   },
   "outputs": [],
   "source": [
    "model = LogisticRegression(max_iter=400)\n",
    "model.fit(x,y)\n",
    "rfe = RFE(model)\n",
    "fit = rfe.fit(x, y)"
   ]
  },
  {
   "cell_type": "code",
   "execution_count": 21,
   "metadata": {
    "execution": {
     "iopub.execute_input": "2022-05-11T04:34:24.670787Z",
     "iopub.status.busy": "2022-05-11T04:34:24.67055Z",
     "iopub.status.idle": "2022-05-11T04:34:24.677299Z",
     "shell.execute_reply": "2022-05-11T04:34:24.676385Z",
     "shell.execute_reply.started": "2022-05-11T04:34:24.670758Z"
    }
   },
   "outputs": [],
   "source": [
    "y_pred = model.predict(x)"
   ]
  },
  {
   "cell_type": "code",
   "execution_count": 22,
   "metadata": {
    "execution": {
     "iopub.execute_input": "2022-05-11T04:34:24.678756Z",
     "iopub.status.busy": "2022-05-11T04:34:24.678526Z",
     "iopub.status.idle": "2022-05-11T04:34:24.704108Z",
     "shell.execute_reply": "2022-05-11T04:34:24.703334Z",
     "shell.execute_reply.started": "2022-05-11T04:34:24.678727Z"
    }
   },
   "outputs": [
    {
     "name": "stdout",
     "output_type": "stream",
     "text": [
      "              precision    recall  f1-score   support\n",
      "\n",
      "           0       0.87      0.84      0.85       450\n",
      "           1       0.84      0.87      0.86       450\n",
      "\n",
      "    accuracy                           0.85       900\n",
      "   macro avg       0.85      0.85      0.85       900\n",
      "weighted avg       0.85      0.85      0.85       900\n",
      "\n"
     ]
    }
   ],
   "source": [
    "from sklearn.metrics import classification_report\n",
    "print(classification_report(y,y_pred))"
   ]
  },
  {
   "cell_type": "code",
   "execution_count": 23,
   "metadata": {
    "execution": {
     "iopub.execute_input": "2022-05-11T04:34:24.707149Z",
     "iopub.status.busy": "2022-05-11T04:34:24.706355Z",
     "iopub.status.idle": "2022-05-11T04:34:24.713382Z",
     "shell.execute_reply": "2022-05-11T04:34:24.712393Z",
     "shell.execute_reply.started": "2022-05-11T04:34:24.707105Z"
    }
   },
   "outputs": [
    {
     "data": {
      "text/plain": [
       "array([False, False,  True,  True, False,  True, False])"
      ]
     },
     "execution_count": 23,
     "metadata": {},
     "output_type": "execute_result"
    }
   ],
   "source": [
    "rfe.support_"
   ]
  },
  {
   "cell_type": "code",
   "execution_count": 24,
   "metadata": {
    "execution": {
     "iopub.execute_input": "2022-05-11T04:34:24.715557Z",
     "iopub.status.busy": "2022-05-11T04:34:24.715218Z",
     "iopub.status.idle": "2022-05-11T04:34:24.728888Z",
     "shell.execute_reply": "2022-05-11T04:34:24.727835Z",
     "shell.execute_reply.started": "2022-05-11T04:34:24.715509Z"
    }
   },
   "outputs": [],
   "source": [
    "raisin1 = raisin.drop(columns = ['MinorAxisLength','Eccentricity','Extent'],axis = 1)"
   ]
  },
  {
   "cell_type": "code",
   "execution_count": 25,
   "metadata": {
    "execution": {
     "iopub.execute_input": "2022-05-11T04:34:24.731628Z",
     "iopub.status.busy": "2022-05-11T04:34:24.73058Z",
     "iopub.status.idle": "2022-05-11T04:34:24.753179Z",
     "shell.execute_reply": "2022-05-11T04:34:24.752493Z",
     "shell.execute_reply.started": "2022-05-11T04:34:24.731585Z"
    }
   },
   "outputs": [
    {
     "data": {
      "text/html": [
       "<div>\n",
       "<style scoped>\n",
       "    .dataframe tbody tr th:only-of-type {\n",
       "        vertical-align: middle;\n",
       "    }\n",
       "\n",
       "    .dataframe tbody tr th {\n",
       "        vertical-align: top;\n",
       "    }\n",
       "\n",
       "    .dataframe thead th {\n",
       "        text-align: right;\n",
       "    }\n",
       "</style>\n",
       "<table border=\"1\" class=\"dataframe\">\n",
       "  <thead>\n",
       "    <tr style=\"text-align: right;\">\n",
       "      <th></th>\n",
       "      <th>Area</th>\n",
       "      <th>MajorAxisLength</th>\n",
       "      <th>ConvexArea</th>\n",
       "      <th>Perimeter</th>\n",
       "      <th>Class</th>\n",
       "    </tr>\n",
       "  </thead>\n",
       "  <tbody>\n",
       "    <tr>\n",
       "      <th>Area</th>\n",
       "      <td>1.000000</td>\n",
       "      <td>0.932774</td>\n",
       "      <td>0.995920</td>\n",
       "      <td>0.961352</td>\n",
       "      <td>-0.625715</td>\n",
       "    </tr>\n",
       "    <tr>\n",
       "      <th>MajorAxisLength</th>\n",
       "      <td>0.932774</td>\n",
       "      <td>1.000000</td>\n",
       "      <td>0.945031</td>\n",
       "      <td>0.977978</td>\n",
       "      <td>-0.673194</td>\n",
       "    </tr>\n",
       "    <tr>\n",
       "      <th>ConvexArea</th>\n",
       "      <td>0.995920</td>\n",
       "      <td>0.945031</td>\n",
       "      <td>1.000000</td>\n",
       "      <td>0.976612</td>\n",
       "      <td>-0.625567</td>\n",
       "    </tr>\n",
       "    <tr>\n",
       "      <th>Perimeter</th>\n",
       "      <td>0.961352</td>\n",
       "      <td>0.977978</td>\n",
       "      <td>0.976612</td>\n",
       "      <td>1.000000</td>\n",
       "      <td>-0.665981</td>\n",
       "    </tr>\n",
       "    <tr>\n",
       "      <th>Class</th>\n",
       "      <td>-0.625715</td>\n",
       "      <td>-0.673194</td>\n",
       "      <td>-0.625567</td>\n",
       "      <td>-0.665981</td>\n",
       "      <td>1.000000</td>\n",
       "    </tr>\n",
       "  </tbody>\n",
       "</table>\n",
       "</div>"
      ],
      "text/plain": [
       "                     Area  MajorAxisLength  ConvexArea  Perimeter     Class\n",
       "Area             1.000000         0.932774    0.995920   0.961352 -0.625715\n",
       "MajorAxisLength  0.932774         1.000000    0.945031   0.977978 -0.673194\n",
       "ConvexArea       0.995920         0.945031    1.000000   0.976612 -0.625567\n",
       "Perimeter        0.961352         0.977978    0.976612   1.000000 -0.665981\n",
       "Class           -0.625715        -0.673194   -0.625567  -0.665981  1.000000"
      ]
     },
     "execution_count": 25,
     "metadata": {},
     "output_type": "execute_result"
    }
   ],
   "source": [
    "raisin1.corr()"
   ]
  },
  {
   "cell_type": "code",
   "execution_count": 26,
   "metadata": {
    "execution": {
     "iopub.execute_input": "2022-05-11T04:34:24.755833Z",
     "iopub.status.busy": "2022-05-11T04:34:24.754847Z",
     "iopub.status.idle": "2022-05-11T04:34:24.773592Z",
     "shell.execute_reply": "2022-05-11T04:34:24.772716Z",
     "shell.execute_reply.started": "2022-05-11T04:34:24.755783Z"
    }
   },
   "outputs": [],
   "source": [
    "sc = StandardScaler()\n",
    "scaled_data = sc.fit_transform(raisin.iloc[:,:-1])"
   ]
  },
  {
   "cell_type": "code",
   "execution_count": 27,
   "metadata": {
    "execution": {
     "iopub.execute_input": "2022-05-11T04:34:24.776858Z",
     "iopub.status.busy": "2022-05-11T04:34:24.775956Z",
     "iopub.status.idle": "2022-05-11T04:34:24.800467Z",
     "shell.execute_reply": "2022-05-11T04:34:24.799543Z",
     "shell.execute_reply.started": "2022-05-11T04:34:24.776806Z"
    }
   },
   "outputs": [
    {
     "data": {
      "text/plain": [
       "array([[ 0.07699386, -0.45332809, -1.08921421,  0.02678873,  0.14138649],\n",
       "       [-0.4753759 ,  0.44536837,  0.0163725 , -0.1159446 ,  0.12199549],\n",
       "       [ 0.37210892,  0.80200814,  0.78648709, -0.2649626 ,  0.0621901 ],\n",
       "       ...,\n",
       "       [ 0.68245105, -1.30819857,  0.09173245, -0.06681526,  0.26292546],\n",
       "       [ 0.64840957,  0.97924814,  0.09141348, -0.08060355,  0.07802635],\n",
       "       [ 0.48755479,  2.10811637, -0.19194068,  0.26589367,  0.06284792]])"
      ]
     },
     "execution_count": 27,
     "metadata": {},
     "output_type": "execute_result"
    }
   ],
   "source": [
    "pca = PCA(n_components = 5)\n",
    "pca_values = pca.fit_transform(scaled_data)\n",
    "pca_values"
   ]
  },
  {
   "cell_type": "code",
   "execution_count": 28,
   "metadata": {
    "execution": {
     "iopub.execute_input": "2022-05-11T04:34:24.80312Z",
     "iopub.status.busy": "2022-05-11T04:34:24.802552Z",
     "iopub.status.idle": "2022-05-11T04:34:24.810959Z",
     "shell.execute_reply": "2022-05-11T04:34:24.809957Z",
     "shell.execute_reply.started": "2022-05-11T04:34:24.803073Z"
    }
   },
   "outputs": [
    {
     "data": {
      "text/plain": [
       "array([0.69032694, 0.20759835, 0.0897785 , 0.00811779, 0.00311547])"
      ]
     },
     "execution_count": 28,
     "metadata": {},
     "output_type": "execute_result"
    }
   ],
   "source": [
    "var = pca.explained_variance_ratio_\n",
    "var"
   ]
  },
  {
   "cell_type": "code",
   "execution_count": 29,
   "metadata": {
    "execution": {
     "iopub.execute_input": "2022-05-11T04:34:24.815179Z",
     "iopub.status.busy": "2022-05-11T04:34:24.814538Z",
     "iopub.status.idle": "2022-05-11T04:34:24.825826Z",
     "shell.execute_reply": "2022-05-11T04:34:24.824934Z",
     "shell.execute_reply.started": "2022-05-11T04:34:24.815109Z"
    }
   },
   "outputs": [
    {
     "data": {
      "text/plain": [
       "array([69.03, 89.79, 98.77, 99.58, 99.89])"
      ]
     },
     "execution_count": 29,
     "metadata": {},
     "output_type": "execute_result"
    }
   ],
   "source": [
    "var1 = np.cumsum(np.round(var,decimals = 4)*100)\n",
    "var1"
   ]
  },
  {
   "cell_type": "code",
   "execution_count": 30,
   "metadata": {
    "execution": {
     "iopub.execute_input": "2022-05-11T04:34:24.828064Z",
     "iopub.status.busy": "2022-05-11T04:34:24.827575Z",
     "iopub.status.idle": "2022-05-11T04:34:24.840593Z",
     "shell.execute_reply": "2022-05-11T04:34:24.839475Z",
     "shell.execute_reply.started": "2022-05-11T04:34:24.828019Z"
    }
   },
   "outputs": [],
   "source": [
    "finalDf = pd.concat([pd.DataFrame(pca_values[:,0:3],columns=['pc1','pc2','pc3']), raisin[['Class']]], axis = 1)"
   ]
  },
  {
   "cell_type": "code",
   "execution_count": 31,
   "metadata": {
    "execution": {
     "iopub.execute_input": "2022-05-11T04:34:24.868541Z",
     "iopub.status.busy": "2022-05-11T04:34:24.864538Z",
     "iopub.status.idle": "2022-05-11T04:34:24.894971Z",
     "shell.execute_reply": "2022-05-11T04:34:24.893849Z",
     "shell.execute_reply.started": "2022-05-11T04:34:24.868438Z"
    }
   },
   "outputs": [
    {
     "data": {
      "text/html": [
       "<div>\n",
       "<style scoped>\n",
       "    .dataframe tbody tr th:only-of-type {\n",
       "        vertical-align: middle;\n",
       "    }\n",
       "\n",
       "    .dataframe tbody tr th {\n",
       "        vertical-align: top;\n",
       "    }\n",
       "\n",
       "    .dataframe thead th {\n",
       "        text-align: right;\n",
       "    }\n",
       "</style>\n",
       "<table border=\"1\" class=\"dataframe\">\n",
       "  <thead>\n",
       "    <tr style=\"text-align: right;\">\n",
       "      <th></th>\n",
       "      <th>pc1</th>\n",
       "      <th>pc2</th>\n",
       "      <th>pc3</th>\n",
       "      <th>Class</th>\n",
       "    </tr>\n",
       "  </thead>\n",
       "  <tbody>\n",
       "    <tr>\n",
       "      <th>0</th>\n",
       "      <td>0.076994</td>\n",
       "      <td>-0.453328</td>\n",
       "      <td>-1.089214</td>\n",
       "      <td>1</td>\n",
       "    </tr>\n",
       "    <tr>\n",
       "      <th>1</th>\n",
       "      <td>-0.475376</td>\n",
       "      <td>0.445368</td>\n",
       "      <td>0.016372</td>\n",
       "      <td>1</td>\n",
       "    </tr>\n",
       "    <tr>\n",
       "      <th>2</th>\n",
       "      <td>0.372109</td>\n",
       "      <td>0.802008</td>\n",
       "      <td>0.786487</td>\n",
       "      <td>1</td>\n",
       "    </tr>\n",
       "    <tr>\n",
       "      <th>3</th>\n",
       "      <td>-2.622445</td>\n",
       "      <td>-0.302564</td>\n",
       "      <td>0.482721</td>\n",
       "      <td>1</td>\n",
       "    </tr>\n",
       "    <tr>\n",
       "      <th>4</th>\n",
       "      <td>-0.962054</td>\n",
       "      <td>-2.967763</td>\n",
       "      <td>0.452154</td>\n",
       "      <td>1</td>\n",
       "    </tr>\n",
       "  </tbody>\n",
       "</table>\n",
       "</div>"
      ],
      "text/plain": [
       "        pc1       pc2       pc3  Class\n",
       "0  0.076994 -0.453328 -1.089214      1\n",
       "1 -0.475376  0.445368  0.016372      1\n",
       "2  0.372109  0.802008  0.786487      1\n",
       "3 -2.622445 -0.302564  0.482721      1\n",
       "4 -0.962054 -2.967763  0.452154      1"
      ]
     },
     "execution_count": 31,
     "metadata": {},
     "output_type": "execute_result"
    }
   ],
   "source": [
    "finalDf.head()"
   ]
  },
  {
   "cell_type": "code",
   "execution_count": 32,
   "metadata": {
    "execution": {
     "iopub.execute_input": "2022-05-11T04:34:24.915693Z",
     "iopub.status.busy": "2022-05-11T04:34:24.915329Z",
     "iopub.status.idle": "2022-05-11T04:34:24.93224Z",
     "shell.execute_reply": "2022-05-11T04:34:24.931382Z",
     "shell.execute_reply.started": "2022-05-11T04:34:24.915653Z"
    }
   },
   "outputs": [
    {
     "data": {
      "text/html": [
       "<div>\n",
       "<style scoped>\n",
       "    .dataframe tbody tr th:only-of-type {\n",
       "        vertical-align: middle;\n",
       "    }\n",
       "\n",
       "    .dataframe tbody tr th {\n",
       "        vertical-align: top;\n",
       "    }\n",
       "\n",
       "    .dataframe thead th {\n",
       "        text-align: right;\n",
       "    }\n",
       "</style>\n",
       "<table border=\"1\" class=\"dataframe\">\n",
       "  <thead>\n",
       "    <tr style=\"text-align: right;\">\n",
       "      <th></th>\n",
       "      <th>pc1</th>\n",
       "      <th>pc2</th>\n",
       "      <th>pc3</th>\n",
       "      <th>Class</th>\n",
       "    </tr>\n",
       "  </thead>\n",
       "  <tbody>\n",
       "    <tr>\n",
       "      <th>pc1</th>\n",
       "      <td>1.000000e+00</td>\n",
       "      <td>-2.867550e-17</td>\n",
       "      <td>-4.419790e-17</td>\n",
       "      <td>-0.661817</td>\n",
       "    </tr>\n",
       "    <tr>\n",
       "      <th>pc2</th>\n",
       "      <td>-2.867550e-17</td>\n",
       "      <td>1.000000e+00</td>\n",
       "      <td>3.691795e-17</td>\n",
       "      <td>-0.140777</td>\n",
       "    </tr>\n",
       "    <tr>\n",
       "      <th>pc3</th>\n",
       "      <td>-4.419790e-17</td>\n",
       "      <td>3.691795e-17</td>\n",
       "      <td>1.000000e+00</td>\n",
       "      <td>0.069929</td>\n",
       "    </tr>\n",
       "    <tr>\n",
       "      <th>Class</th>\n",
       "      <td>-6.618171e-01</td>\n",
       "      <td>-1.407773e-01</td>\n",
       "      <td>6.992941e-02</td>\n",
       "      <td>1.000000</td>\n",
       "    </tr>\n",
       "  </tbody>\n",
       "</table>\n",
       "</div>"
      ],
      "text/plain": [
       "                pc1           pc2           pc3     Class\n",
       "pc1    1.000000e+00 -2.867550e-17 -4.419790e-17 -0.661817\n",
       "pc2   -2.867550e-17  1.000000e+00  3.691795e-17 -0.140777\n",
       "pc3   -4.419790e-17  3.691795e-17  1.000000e+00  0.069929\n",
       "Class -6.618171e-01 -1.407773e-01  6.992941e-02  1.000000"
      ]
     },
     "execution_count": 32,
     "metadata": {},
     "output_type": "execute_result"
    }
   ],
   "source": [
    "finalDf.corr()"
   ]
  },
  {
   "cell_type": "code",
   "execution_count": 33,
   "metadata": {
    "execution": {
     "iopub.execute_input": "2022-05-11T04:34:24.980018Z",
     "iopub.status.busy": "2022-05-11T04:34:24.979432Z",
     "iopub.status.idle": "2022-05-11T04:34:24.986762Z",
     "shell.execute_reply": "2022-05-11T04:34:24.985804Z",
     "shell.execute_reply.started": "2022-05-11T04:34:24.979961Z"
    }
   },
   "outputs": [],
   "source": [
    "X = finalDf.iloc[:,:-1]\n",
    "Y = finalDf.iloc[:,-1]"
   ]
  },
  {
   "cell_type": "code",
   "execution_count": 34,
   "metadata": {
    "execution": {
     "iopub.execute_input": "2022-05-11T04:34:25.043055Z",
     "iopub.status.busy": "2022-05-11T04:34:25.042751Z",
     "iopub.status.idle": "2022-05-11T04:34:25.05685Z",
     "shell.execute_reply": "2022-05-11T04:34:25.056217Z",
     "shell.execute_reply.started": "2022-05-11T04:34:25.043025Z"
    }
   },
   "outputs": [
    {
     "data": {
      "text/plain": [
       "LogisticRegression()"
      ]
     },
     "execution_count": 34,
     "metadata": {},
     "output_type": "execute_result"
    }
   ],
   "source": [
    "model_log = LogisticRegression()\n",
    "model_log.fit(X,Y)"
   ]
  },
  {
   "cell_type": "code",
   "execution_count": 35,
   "metadata": {
    "execution": {
     "iopub.execute_input": "2022-05-11T04:34:25.0948Z",
     "iopub.status.busy": "2022-05-11T04:34:25.094284Z",
     "iopub.status.idle": "2022-05-11T04:34:25.101358Z",
     "shell.execute_reply": "2022-05-11T04:34:25.10068Z",
     "shell.execute_reply.started": "2022-05-11T04:34:25.094751Z"
    }
   },
   "outputs": [],
   "source": [
    "Y_pred = model_log.predict(X)"
   ]
  },
  {
   "cell_type": "code",
   "execution_count": 36,
   "metadata": {
    "execution": {
     "iopub.execute_input": "2022-05-11T04:34:25.144319Z",
     "iopub.status.busy": "2022-05-11T04:34:25.143866Z",
     "iopub.status.idle": "2022-05-11T04:34:25.154636Z",
     "shell.execute_reply": "2022-05-11T04:34:25.153922Z",
     "shell.execute_reply.started": "2022-05-11T04:34:25.144272Z"
    }
   },
   "outputs": [
    {
     "name": "stdout",
     "output_type": "stream",
     "text": [
      "              precision    recall  f1-score   support\n",
      "\n",
      "           0       0.88      0.84      0.86       450\n",
      "           1       0.85      0.89      0.87       450\n",
      "\n",
      "    accuracy                           0.87       900\n",
      "   macro avg       0.87      0.87      0.87       900\n",
      "weighted avg       0.87      0.87      0.87       900\n",
      "\n"
     ]
    }
   ],
   "source": [
    "print(classification_report(Y,Y_pred))"
   ]
  },
  {
   "cell_type": "code",
   "execution_count": 37,
   "metadata": {
    "execution": {
     "iopub.execute_input": "2022-05-11T04:34:25.190279Z",
     "iopub.status.busy": "2022-05-11T04:34:25.18979Z",
     "iopub.status.idle": "2022-05-11T04:34:25.20714Z",
     "shell.execute_reply": "2022-05-11T04:34:25.205985Z",
     "shell.execute_reply.started": "2022-05-11T04:34:25.190231Z"
    }
   },
   "outputs": [],
   "source": [
    "x_train, x_test, y_train, y_test = train_test_split(X, Y, test_size=0.2)\n",
    "\n",
    "model = LogisticRegression()\n",
    "model.fit(x_train,y_train)\n",
    "\n",
    "log_result = model.score(x_test, y_test)\n",
    "train_result = model.score(x_train,y_train)"
   ]
  },
  {
   "cell_type": "code",
   "execution_count": 38,
   "metadata": {
    "execution": {
     "iopub.execute_input": "2022-05-11T04:34:25.23825Z",
     "iopub.status.busy": "2022-05-11T04:34:25.237789Z",
     "iopub.status.idle": "2022-05-11T04:34:25.244292Z",
     "shell.execute_reply": "2022-05-11T04:34:25.243137Z",
     "shell.execute_reply.started": "2022-05-11T04:34:25.238204Z"
    }
   },
   "outputs": [
    {
     "name": "stdout",
     "output_type": "stream",
     "text": [
      "89.44444444444444\n",
      "86.25\n"
     ]
    }
   ],
   "source": [
    "print(log_result*100.0)\n",
    "print(train_result * 100.0)"
   ]
  },
  {
   "cell_type": "code",
   "execution_count": 39,
   "metadata": {
    "execution": {
     "iopub.execute_input": "2022-05-11T04:34:25.283945Z",
     "iopub.status.busy": "2022-05-11T04:34:25.283632Z",
     "iopub.status.idle": "2022-05-11T04:34:25.290674Z",
     "shell.execute_reply": "2022-05-11T04:34:25.289341Z",
     "shell.execute_reply.started": "2022-05-11T04:34:25.283914Z"
    }
   },
   "outputs": [
    {
     "data": {
      "text/plain": [
       "(720, 3)"
      ]
     },
     "execution_count": 39,
     "metadata": {},
     "output_type": "execute_result"
    }
   ],
   "source": [
    "x_train.shape"
   ]
  },
  {
   "cell_type": "code",
   "execution_count": 40,
   "metadata": {
    "execution": {
     "iopub.execute_input": "2022-05-11T04:34:25.343136Z",
     "iopub.status.busy": "2022-05-11T04:34:25.342171Z",
     "iopub.status.idle": "2022-05-11T04:34:25.42784Z",
     "shell.execute_reply": "2022-05-11T04:34:25.426885Z",
     "shell.execute_reply.started": "2022-05-11T04:34:25.343086Z"
    }
   },
   "outputs": [],
   "source": [
    "kfold = KFold(n_splits=10)\n",
    "model = LogisticRegression(max_iter=400)\n",
    "results = cross_val_score(model, X, Y, cv=kfold)"
   ]
  },
  {
   "cell_type": "code",
   "execution_count": 41,
   "metadata": {
    "execution": {
     "iopub.execute_input": "2022-05-11T04:34:25.429663Z",
     "iopub.status.busy": "2022-05-11T04:34:25.429417Z",
     "iopub.status.idle": "2022-05-11T04:34:25.435835Z",
     "shell.execute_reply": "2022-05-11T04:34:25.435031Z",
     "shell.execute_reply.started": "2022-05-11T04:34:25.429632Z"
    }
   },
   "outputs": [
    {
     "data": {
      "text/plain": [
       "84.33333333333334"
      ]
     },
     "execution_count": 41,
     "metadata": {},
     "output_type": "execute_result"
    }
   ],
   "source": [
    "results.mean()*100.0"
   ]
  },
  {
   "cell_type": "code",
   "execution_count": 42,
   "metadata": {
    "execution": {
     "iopub.execute_input": "2022-05-11T04:34:25.476171Z",
     "iopub.status.busy": "2022-05-11T04:34:25.475843Z",
     "iopub.status.idle": "2022-05-11T04:34:25.490744Z",
     "shell.execute_reply": "2022-05-11T04:34:25.489486Z",
     "shell.execute_reply.started": "2022-05-11T04:34:25.476128Z"
    }
   },
   "outputs": [
    {
     "name": "stdout",
     "output_type": "stream",
     "text": [
      "1.0\n"
     ]
    }
   ],
   "source": [
    "from sklearn.tree import DecisionTreeClassifier\n",
    "\n",
    "cart_model = DecisionTreeClassifier(criterion = 'gini')\n",
    "cart_model.fit(x_train,y_train)\n",
    "\n",
    "cart_result = cart_model.score(x_train,y_train)\n",
    "print(cart_result)\n",
    "\n"
   ]
  },
  {
   "cell_type": "code",
   "execution_count": 43,
   "metadata": {
    "execution": {
     "iopub.execute_input": "2022-05-11T04:34:25.522182Z",
     "iopub.status.busy": "2022-05-11T04:34:25.52183Z",
     "iopub.status.idle": "2022-05-11T04:34:25.537776Z",
     "shell.execute_reply": "2022-05-11T04:34:25.53685Z",
     "shell.execute_reply.started": "2022-05-11T04:34:25.522138Z"
    }
   },
   "outputs": [
    {
     "name": "stdout",
     "output_type": "stream",
     "text": [
      "0.8444444444444444\n",
      "0.8666666666666667\n"
     ]
    }
   ],
   "source": [
    "from sklearn.naive_bayes import GaussianNB\n",
    "\n",
    "nb_model = GaussianNB()\n",
    "nb_model.fit(x_train,y_train)\n",
    "\n",
    "nb_result = nb_model.score(x_train,y_train)\n",
    "\n",
    "print(nb_result)\n",
    "print(nb_model.score(x_test,y_test))"
   ]
  },
  {
   "cell_type": "code",
   "execution_count": 44,
   "metadata": {
    "execution": {
     "iopub.execute_input": "2022-05-11T04:34:25.569237Z",
     "iopub.status.busy": "2022-05-11T04:34:25.568918Z",
     "iopub.status.idle": "2022-05-11T04:34:25.618124Z",
     "shell.execute_reply": "2022-05-11T04:34:25.617444Z",
     "shell.execute_reply.started": "2022-05-11T04:34:25.569207Z"
    }
   },
   "outputs": [
    {
     "name": "stdout",
     "output_type": "stream",
     "text": [
      "0.8694444444444445\n",
      "0.8777777777777778\n"
     ]
    }
   ],
   "source": [
    "from sklearn.neighbors import KNeighborsClassifier\n",
    "\n",
    "knn_model = KNeighborsClassifier(n_neighbors = 13)\n",
    "knn_model.fit(x_train,y_train)\n",
    "\n",
    "knn_result = knn_model.score(x_train,y_train)\n",
    "print(knn_result)\n",
    "\n",
    "print(knn_model.score(x_test,y_test))"
   ]
  },
  {
   "cell_type": "code",
   "execution_count": 45,
   "metadata": {
    "execution": {
     "iopub.execute_input": "2022-05-11T04:34:25.619938Z",
     "iopub.status.busy": "2022-05-11T04:34:25.619585Z",
     "iopub.status.idle": "2022-05-11T04:34:25.656427Z",
     "shell.execute_reply": "2022-05-11T04:34:25.655132Z",
     "shell.execute_reply.started": "2022-05-11T04:34:25.619908Z"
    }
   },
   "outputs": [
    {
     "name": "stdout",
     "output_type": "stream",
     "text": [
      "0.8666666666666667\n",
      "0.8722222222222222\n"
     ]
    }
   ],
   "source": [
    "from sklearn.svm import SVC\n",
    "\n",
    "svc_model = SVC()\n",
    "svc_model.fit(x_train,y_train)\n",
    "\n",
    "svc_result = svc_model.score(x_train,y_train)\n",
    "print(svc_result)\n",
    "\n",
    "print(svc_model.score(x_test,y_test))"
   ]
  },
  {
   "cell_type": "code",
   "execution_count": 46,
   "metadata": {
    "execution": {
     "iopub.execute_input": "2022-05-11T04:34:25.669977Z",
     "iopub.status.busy": "2022-05-11T04:34:25.669115Z",
     "iopub.status.idle": "2022-05-11T04:34:25.715331Z",
     "shell.execute_reply": "2022-05-11T04:34:25.714201Z",
     "shell.execute_reply.started": "2022-05-11T04:34:25.669924Z"
    }
   },
   "outputs": [
    {
     "name": "stdout",
     "output_type": "stream",
     "text": [
      "0.8361111111111111\n",
      "0.9111111111111111\n"
     ]
    }
   ],
   "source": [
    "from sklearn.ensemble import AdaBoostClassifier\n",
    "\n",
    "ada_model = AdaBoostClassifier(n_estimators = 10)\n",
    "ada_model.fit(x_train,y_train)\n",
    "\n",
    "ada_result = ada_model.score(x_train,y_train)\n",
    "print(ada_result)\n",
    "\n",
    "print(ada_model.score(x_test,y_test))"
   ]
  },
  {
   "cell_type": "code",
   "execution_count": 47,
   "metadata": {
    "execution": {
     "iopub.execute_input": "2022-05-11T04:34:25.717313Z",
     "iopub.status.busy": "2022-05-11T04:34:25.716773Z",
     "iopub.status.idle": "2022-05-11T04:34:25.770428Z",
     "shell.execute_reply": "2022-05-11T04:34:25.769717Z",
     "shell.execute_reply.started": "2022-05-11T04:34:25.717279Z"
    }
   },
   "outputs": [
    {
     "name": "stdout",
     "output_type": "stream",
     "text": [
      "0.9916666666666667\n",
      "0.8444444444444444\n"
     ]
    }
   ],
   "source": [
    "from sklearn.ensemble import BaggingClassifier\n",
    "from sklearn.tree import DecisionTreeClassifier\n",
    "from sklearn.metrics import confusion_matrix\n",
    "\n",
    "cart = DecisionTreeClassifier()\n",
    "bag_model = BaggingClassifier(base_estimator=cart, n_estimators=10,random_state = 7)\n",
    "bag_model.fit(x_train,y_train)\n",
    "\n",
    "bag_result = bag_model.score(x_train,y_train)\n",
    "print(bag_result)\n",
    "\n",
    "print(bag_model.score(x_test,y_test))"
   ]
  },
  {
   "cell_type": "code",
   "execution_count": 48,
   "metadata": {
    "execution": {
     "iopub.execute_input": "2022-05-11T04:34:25.799252Z",
     "iopub.status.busy": "2022-05-11T04:34:25.798472Z",
     "iopub.status.idle": "2022-05-11T04:34:26.138042Z",
     "shell.execute_reply": "2022-05-11T04:34:26.137015Z",
     "shell.execute_reply.started": "2022-05-11T04:34:25.799214Z"
    }
   },
   "outputs": [
    {
     "name": "stdout",
     "output_type": "stream",
     "text": [
      "1.0\n",
      "0.8777777777777778\n"
     ]
    }
   ],
   "source": [
    "from sklearn.ensemble import RandomForestClassifier\n",
    "\n",
    "rfc_model = RandomForestClassifier(n_estimators = 100, max_features = 3)\n",
    "rfc_model.fit(x_train,y_train)\n",
    "\n",
    "RFC_result = rfc_model.score(x_train,y_train)\n",
    "print(RFC_result)\n",
    "\n",
    "print(rfc_model.score(x_test,y_test))"
   ]
  },
  {
   "cell_type": "code",
   "execution_count": 49,
   "metadata": {
    "execution": {
     "iopub.execute_input": "2022-05-11T04:34:26.140247Z",
     "iopub.status.busy": "2022-05-11T04:34:26.140006Z",
     "iopub.status.idle": "2022-05-11T04:34:26.200993Z",
     "shell.execute_reply": "2022-05-11T04:34:26.200413Z",
     "shell.execute_reply.started": "2022-05-11T04:34:26.140215Z"
    }
   },
   "outputs": [
    {
     "name": "stdout",
     "output_type": "stream",
     "text": [
      "0.8819444444444444\n",
      "0.8777777777777778\n"
     ]
    }
   ],
   "source": [
    "from sklearn.linear_model import LogisticRegression\n",
    "from sklearn.tree import DecisionTreeClassifier\n",
    "from sklearn.svm import SVC\n",
    "from sklearn.ensemble import VotingClassifier\n",
    "\n",
    "estimators = []\n",
    "\n",
    "model1 = LogisticRegression(max_iter=500)\n",
    "estimators.append(('logistic', model1))\n",
    "\n",
    "model2 = DecisionTreeClassifier()\n",
    "estimators.append(('cart', model2))\n",
    "\n",
    "model3 = SVC()\n",
    "estimators.append(('svm', model3))\n",
    "\n",
    "ensemble = VotingClassifier(estimators)\n",
    "ensemble.fit(x_train,y_train)\n",
    "\n",
    "ensemble_result = ensemble.score(x_train,y_train)\n",
    "print(ensemble_result)\n",
    "\n",
    "print(ensemble.score(x_test,y_test))"
   ]
  },
  {
   "cell_type": "code",
   "execution_count": 50,
   "metadata": {
    "execution": {
     "iopub.execute_input": "2022-05-11T04:34:26.202557Z",
     "iopub.status.busy": "2022-05-11T04:34:26.20211Z",
     "iopub.status.idle": "2022-05-11T04:34:26.215552Z",
     "shell.execute_reply": "2022-05-11T04:34:26.214807Z",
     "shell.execute_reply.started": "2022-05-11T04:34:26.202507Z"
    }
   },
   "outputs": [
    {
     "data": {
      "text/html": [
       "<div>\n",
       "<style scoped>\n",
       "    .dataframe tbody tr th:only-of-type {\n",
       "        vertical-align: middle;\n",
       "    }\n",
       "\n",
       "    .dataframe tbody tr th {\n",
       "        vertical-align: top;\n",
       "    }\n",
       "\n",
       "    .dataframe thead th {\n",
       "        text-align: right;\n",
       "    }\n",
       "</style>\n",
       "<table border=\"1\" class=\"dataframe\">\n",
       "  <thead>\n",
       "    <tr style=\"text-align: right;\">\n",
       "      <th></th>\n",
       "      <th>Model</th>\n",
       "      <th>Accuracy</th>\n",
       "    </tr>\n",
       "  </thead>\n",
       "  <tbody>\n",
       "    <tr>\n",
       "      <th>0</th>\n",
       "      <td>Logistic Regression</td>\n",
       "      <td>0.894444</td>\n",
       "    </tr>\n",
       "    <tr>\n",
       "      <th>1</th>\n",
       "      <td>Decision Tree</td>\n",
       "      <td>1.000000</td>\n",
       "    </tr>\n",
       "    <tr>\n",
       "      <th>2</th>\n",
       "      <td>Naive Bayes</td>\n",
       "      <td>0.844444</td>\n",
       "    </tr>\n",
       "    <tr>\n",
       "      <th>3</th>\n",
       "      <td>KNN</td>\n",
       "      <td>0.869444</td>\n",
       "    </tr>\n",
       "    <tr>\n",
       "      <th>4</th>\n",
       "      <td>SVC</td>\n",
       "      <td>0.866667</td>\n",
       "    </tr>\n",
       "    <tr>\n",
       "      <th>5</th>\n",
       "      <td>AdaBoost</td>\n",
       "      <td>0.836111</td>\n",
       "    </tr>\n",
       "    <tr>\n",
       "      <th>6</th>\n",
       "      <td>Bagged Decision Tree</td>\n",
       "      <td>0.991667</td>\n",
       "    </tr>\n",
       "    <tr>\n",
       "      <th>7</th>\n",
       "      <td>Random Forest</td>\n",
       "      <td>1.000000</td>\n",
       "    </tr>\n",
       "    <tr>\n",
       "      <th>8</th>\n",
       "      <td>Voting Classifier</td>\n",
       "      <td>0.881944</td>\n",
       "    </tr>\n",
       "  </tbody>\n",
       "</table>\n",
       "</div>"
      ],
      "text/plain": [
       "                  Model  Accuracy\n",
       "0   Logistic Regression  0.894444\n",
       "1         Decision Tree  1.000000\n",
       "2           Naive Bayes  0.844444\n",
       "3                   KNN  0.869444\n",
       "4                   SVC  0.866667\n",
       "5              AdaBoost  0.836111\n",
       "6  Bagged Decision Tree  0.991667\n",
       "7         Random Forest  1.000000\n",
       "8     Voting Classifier  0.881944"
      ]
     },
     "execution_count": 50,
     "metadata": {},
     "output_type": "execute_result"
    }
   ],
   "source": [
    "scores_dict = {\n",
    "    \"Model\":['Logistic Regression','Decision Tree','Naive Bayes','KNN','SVC','AdaBoost',\n",
    "             'Bagged Decision Tree','Random Forest','Voting Classifier'],\n",
    "    \n",
    "    \"Accuracy\": [log_result, cart_result, nb_result, knn_result, svc_result,ada_result, bag_result, RFC_result,\n",
    "                 ensemble_result]\n",
    "}\n",
    "\n",
    "scores_df = pd.DataFrame(scores_dict)\n",
    "\n",
    "scores_df"
   ]
  },
  {
   "cell_type": "code",
   "execution_count": 51,
   "metadata": {
    "execution": {
     "iopub.execute_input": "2022-05-11T04:34:26.217296Z",
     "iopub.status.busy": "2022-05-11T04:34:26.21694Z",
     "iopub.status.idle": "2022-05-11T04:34:26.244234Z",
     "shell.execute_reply": "2022-05-11T04:34:26.243591Z",
     "shell.execute_reply.started": "2022-05-11T04:34:26.21726Z"
    }
   },
   "outputs": [
    {
     "name": "stdout",
     "output_type": "stream",
     "text": [
      "              precision    recall  f1-score   support\n",
      "\n",
      "           0       0.93      0.83      0.88        81\n",
      "           1       0.87      0.95      0.91        99\n",
      "\n",
      "    accuracy                           0.89       180\n",
      "   macro avg       0.90      0.89      0.89       180\n",
      "weighted avg       0.90      0.89      0.89       180\n",
      "\n"
     ]
    }
   ],
   "source": [
    "final_model = LogisticRegression()\n",
    "final_model.fit(x_train,y_train)\n",
    "\n",
    "final_pred = final_model.predict(x_test)\n",
    "\n",
    "print(classification_report(y_test,final_pred))"
   ]
  },
  {
   "cell_type": "code",
   "execution_count": 52,
   "metadata": {
    "execution": {
     "iopub.execute_input": "2022-05-11T04:34:26.245795Z",
     "iopub.status.busy": "2022-05-11T04:34:26.245394Z",
     "iopub.status.idle": "2022-05-11T04:34:26.252815Z",
     "shell.execute_reply": "2022-05-11T04:34:26.252136Z",
     "shell.execute_reply.started": "2022-05-11T04:34:26.245754Z"
    }
   },
   "outputs": [
    {
     "data": {
      "text/plain": [
       "146    1\n",
       "19     1\n",
       "361    1\n",
       "76     1\n",
       "638    0\n",
       "568    0\n",
       "75     1\n",
       "781    0\n",
       "206    1\n",
       "633    0\n",
       "Name: Class, dtype: int32"
      ]
     },
     "execution_count": 52,
     "metadata": {},
     "output_type": "execute_result"
    }
   ],
   "source": [
    "actual = pd.Series(y_test[:10])\n",
    "actual"
   ]
  },
  {
   "cell_type": "code",
   "execution_count": 53,
   "metadata": {
    "execution": {
     "iopub.execute_input": "2022-05-11T04:34:26.258309Z",
     "iopub.status.busy": "2022-05-11T04:34:26.257333Z",
     "iopub.status.idle": "2022-05-11T04:34:26.267153Z",
     "shell.execute_reply": "2022-05-11T04:34:26.266158Z",
     "shell.execute_reply.started": "2022-05-11T04:34:26.258239Z"
    }
   },
   "outputs": [
    {
     "data": {
      "text/plain": [
       "array([1, 1, 1, 1, 0, 0, 1, 0, 1, 1])"
      ]
     },
     "execution_count": 53,
     "metadata": {},
     "output_type": "execute_result"
    }
   ],
   "source": [
    "predicted = final_pred[:10]\n",
    "predicted"
   ]
  },
  {
   "cell_type": "code",
   "execution_count": 54,
   "metadata": {
    "execution": {
     "iopub.execute_input": "2022-05-11T04:34:26.310304Z",
     "iopub.status.busy": "2022-05-11T04:34:26.309953Z",
     "iopub.status.idle": "2022-05-11T04:34:26.321764Z",
     "shell.execute_reply": "2022-05-11T04:34:26.320818Z",
     "shell.execute_reply.started": "2022-05-11T04:34:26.310269Z"
    }
   },
   "outputs": [
    {
     "data": {
      "text/html": [
       "<div>\n",
       "<style scoped>\n",
       "    .dataframe tbody tr th:only-of-type {\n",
       "        vertical-align: middle;\n",
       "    }\n",
       "\n",
       "    .dataframe tbody tr th {\n",
       "        vertical-align: top;\n",
       "    }\n",
       "\n",
       "    .dataframe thead th {\n",
       "        text-align: right;\n",
       "    }\n",
       "</style>\n",
       "<table border=\"1\" class=\"dataframe\">\n",
       "  <thead>\n",
       "    <tr style=\"text-align: right;\">\n",
       "      <th></th>\n",
       "      <th>actual</th>\n",
       "      <th>predicted_prob</th>\n",
       "    </tr>\n",
       "  </thead>\n",
       "  <tbody>\n",
       "    <tr>\n",
       "      <th>146</th>\n",
       "      <td>1</td>\n",
       "      <td>1</td>\n",
       "    </tr>\n",
       "    <tr>\n",
       "      <th>19</th>\n",
       "      <td>1</td>\n",
       "      <td>1</td>\n",
       "    </tr>\n",
       "    <tr>\n",
       "      <th>361</th>\n",
       "      <td>1</td>\n",
       "      <td>1</td>\n",
       "    </tr>\n",
       "    <tr>\n",
       "      <th>76</th>\n",
       "      <td>1</td>\n",
       "      <td>1</td>\n",
       "    </tr>\n",
       "    <tr>\n",
       "      <th>638</th>\n",
       "      <td>0</td>\n",
       "      <td>0</td>\n",
       "    </tr>\n",
       "    <tr>\n",
       "      <th>568</th>\n",
       "      <td>0</td>\n",
       "      <td>0</td>\n",
       "    </tr>\n",
       "    <tr>\n",
       "      <th>75</th>\n",
       "      <td>1</td>\n",
       "      <td>1</td>\n",
       "    </tr>\n",
       "    <tr>\n",
       "      <th>781</th>\n",
       "      <td>0</td>\n",
       "      <td>0</td>\n",
       "    </tr>\n",
       "    <tr>\n",
       "      <th>206</th>\n",
       "      <td>1</td>\n",
       "      <td>1</td>\n",
       "    </tr>\n",
       "    <tr>\n",
       "      <th>633</th>\n",
       "      <td>0</td>\n",
       "      <td>1</td>\n",
       "    </tr>\n",
       "  </tbody>\n",
       "</table>\n",
       "</div>"
      ],
      "text/plain": [
       "     actual  predicted_prob\n",
       "146       1               1\n",
       "19        1               1\n",
       "361       1               1\n",
       "76        1               1\n",
       "638       0               0\n",
       "568       0               0\n",
       "75        1               1\n",
       "781       0               0\n",
       "206       1               1\n",
       "633       0               1"
      ]
     },
     "execution_count": 54,
     "metadata": {},
     "output_type": "execute_result"
    }
   ],
   "source": [
    "pred_df= pd.DataFrame({'actual': actual,'predicted_prob': predicted})\n",
    "pred_df"
   ]
  }
 ],
 "metadata": {
  "kernelspec": {
   "display_name": "Python 3",
   "language": "python",
   "name": "python3"
  },
  "language_info": {
   "codemirror_mode": {
    "name": "ipython",
    "version": 3
   },
   "file_extension": ".py",
   "mimetype": "text/x-python",
   "name": "python",
   "nbconvert_exporter": "python",
   "pygments_lexer": "ipython3",
   "version": "3.8.8"
  }
 },
 "nbformat": 4,
 "nbformat_minor": 4
}
